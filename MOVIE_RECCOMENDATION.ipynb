{
  "nbformat": 4,
  "nbformat_minor": 0,
  "metadata": {
    "colab": {
      "name": "MOVIE RECCOMENDATION.ipynb",
      "provenance": [],
      "collapsed_sections": [],
      "authorship_tag": "ABX9TyPsm5Ez4jbcWanaBfTRxrVv",
      "include_colab_link": true
    },
    "kernelspec": {
      "name": "python3",
      "display_name": "Python 3"
    }
  },
  "cells": [
    {
      "cell_type": "markdown",
      "metadata": {
        "id": "view-in-github",
        "colab_type": "text"
      },
      "source": [
        "<a href=\"https://colab.research.google.com/github/astuteshu/Project-A/blob/master/MOVIE_RECCOMENDATION.ipynb\" target=\"_parent\"><img src=\"https://colab.research.google.com/assets/colab-badge.svg\" alt=\"Open In Colab\"/></a>"
      ]
    },
    {
      "cell_type": "code",
      "metadata": {
        "id": "j79moP2TV00S",
        "colab_type": "code",
        "colab": {}
      },
      "source": [
        "import pandas as pd\n",
        "import numpy as np\n",
        "from sklearn.metrics.pairwise import cosine_similarity\n",
        "from sklearn.feature_extraction.text import CountVectorizer"
      ],
      "execution_count": null,
      "outputs": []
    },
    {
      "cell_type": "code",
      "metadata": {
        "id": "SjlJhBMfWkrN",
        "colab_type": "code",
        "colab": {}
      },
      "source": [
        "from google.colab import files\n",
        "uploaded = files.upload()"
      ],
      "execution_count": null,
      "outputs": []
    },
    {
      "cell_type": "code",
      "metadata": {
        "id": "6797sLECXPhB",
        "colab_type": "code",
        "colab": {}
      },
      "source": [
        "#store data\n",
        "df = pd.read_csv('movie_data.csv.csv')\n",
        "#first 3 rows\n",
        "df.head(3)\n"
      ],
      "execution_count": null,
      "outputs": []
    },
    {
      "cell_type": "code",
      "metadata": {
        "id": "HVP5VWRRatKk",
        "colab_type": "code",
        "colab": {}
      },
      "source": [
        "#rows and columns\n",
        "df.shape"
      ],
      "execution_count": null,
      "outputs": []
    },
    {
      "cell_type": "code",
      "metadata": {
        "id": "OYraJhNAb_ix",
        "colab_type": "code",
        "colab": {}
      },
      "source": [
        "#list of impt features\n",
        "columns = [ 'Actors', 'Director', 'Genre', 'Title' ]"
      ],
      "execution_count": null,
      "outputs": []
    },
    {
      "cell_type": "code",
      "metadata": {
        "id": "G6mS_E9hcTvR",
        "colab_type": "code",
        "colab": {}
      },
      "source": [
        "#show data\n",
        "df[columns].head(3)"
      ],
      "execution_count": null,
      "outputs": []
    },
    {
      "cell_type": "code",
      "metadata": {
        "id": "uo5Sksl-de7U",
        "colab_type": "code",
        "colab": {}
      },
      "source": [
        "#check for empty cells\n",
        "df[columns].isnull().values.any()"
      ],
      "execution_count": null,
      "outputs": []
    },
    {
      "cell_type": "code",
      "metadata": {
        "id": "JOiSKbYPdscy",
        "colab_type": "code",
        "colab": {}
      },
      "source": [
        "#combine values of impt columns into a single string\n",
        "def get_important_features(data):\n",
        "    important_features = []\n",
        "    for i in range (0,data.shape[0]):\n",
        "        important_features.append(data['Actors'][i]+' '+data['Director'][i]+' '+data['Genre'][i]+' '+data['Title'][i])\n",
        "    \n",
        "    return    important_features"
      ],
      "execution_count": null,
      "outputs": []
    },
    {
      "cell_type": "code",
      "metadata": {
        "id": "dOp1EerZggDF",
        "colab_type": "code",
        "colab": {}
      },
      "source": [
        "#create a new column in original dataset\n",
        "df['important_features'] = get_important_features(df)\n",
        "# show data\n",
        "df.head(3)"
      ],
      "execution_count": null,
      "outputs": []
    },
    {
      "cell_type": "code",
      "metadata": {
        "id": "Q5CWnTbqhecm",
        "colab_type": "code",
        "colab": {}
      },
      "source": [
        "#convert text to matrix of total count\n",
        "cm = CountVectorizer().fit_transform(df['important_features'])"
      ],
      "execution_count": null,
      "outputs": []
    },
    {
      "cell_type": "code",
      "metadata": {
        "id": "_LrZDWW3h5gK",
        "colab_type": "code",
        "colab": {}
      },
      "source": [
        "# get cosine similarity matrix from count matrix\n",
        "cs = cosine_similarity(cm)\n",
        "print(cs)\n",
        "# cosine matrix has values from 0 to 1 \n",
        "#value a"
      ],
      "execution_count": null,
      "outputs": []
    },
    {
      "cell_type": "code",
      "metadata": {
        "id": "nOYxp4Kxiryb",
        "colab_type": "code",
        "colab": {}
      },
      "source": [
        "#shape of cosine similarity matrix\n",
        "cs.shape"
      ],
      "execution_count": null,
      "outputs": []
    },
    {
      "cell_type": "code",
      "metadata": {
        "id": "ZgprSvbfiztx",
        "colab_type": "code",
        "colab": {}
      },
      "source": [
        "#title of movie that user inputs\n",
        "title = 'The Amazing Spider-Man'\n",
        "# find movies id\n",
        "movies_id = df[df.Title==title]['Rank'].values[0]"
      ],
      "execution_count": null,
      "outputs": []
    },
    {
      "cell_type": "code",
      "metadata": {
        "id": "dyWQSvvWj-QS",
        "colab_type": "code",
        "colab": {}
      },
      "source": [
        "#create a list of enumerations for similarity scores i.e a list of tuples coressponding to movie_id and similarity score i.e[(movie_id,similarity score),(  ),....]\n",
        "scores = list(enumerate(cs[movies_id]))"
      ],
      "execution_count": null,
      "outputs": []
    },
    {
      "cell_type": "code",
      "metadata": {
        "id": "TcsM9Ptokw9D",
        "colab_type": "code",
        "colab": {}
      },
      "source": [
        "#sort list \n",
        "sorted_scores = sorted(scores,key = lambda x:x[1],reverse =True)\n",
        "# reverse so that movie with highest similarity gets printed\n",
        "sorted_scores = sorted_scores[1:]\n",
        "# as 0 will be the movie iysel with similarity score of 1"
      ],
      "execution_count": null,
      "outputs": []
    },
    {
      "cell_type": "code",
      "metadata": {
        "id": "l96wGi6CmjE-",
        "colab_type": "code",
        "colab": {}
      },
      "source": [
        "print(sorted_scores)"
      ],
      "execution_count": null,
      "outputs": []
    },
    {
      "cell_type": "code",
      "metadata": {
        "id": "fhj80U0imoyi",
        "colab_type": "code",
        "colab": {}
      },
      "source": [
        "j=0\n",
        "print('10 most recommended movies: ', title ,'are:\\n')\n",
        "for item in sorted_scores:\n",
        "  movie_title = df[df.Rank == item[0]]['Title'].values[0]\n",
        "  print(j+1,movie_title)\n",
        "  j=j+1\n",
        "  if  j>9:\n",
        "    break"
      ],
      "execution_count": null,
      "outputs": []
    }
  ]
}